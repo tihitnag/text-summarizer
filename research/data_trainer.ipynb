{
 "cells": [
  {
   "cell_type": "code",
   "execution_count": 1,
   "metadata": {},
   "outputs": [],
   "source": [
    "import os"
   ]
  },
  {
   "cell_type": "code",
   "execution_count": 2,
   "metadata": {},
   "outputs": [
    {
     "data": {
      "text/plain": [
       "'c:\\\\Users\\\\Ivar\\\\Downloads\\\\text summarzre\\\\text-summarizer\\\\research'"
      ]
     },
     "execution_count": 2,
     "metadata": {},
     "output_type": "execute_result"
    }
   ],
   "source": [
    "%pwd"
   ]
  },
  {
   "cell_type": "code",
   "execution_count": 3,
   "metadata": {},
   "outputs": [],
   "source": [
    "os.chdir('../')"
   ]
  },
  {
   "cell_type": "code",
   "execution_count": 4,
   "metadata": {},
   "outputs": [
    {
     "data": {
      "text/plain": [
       "'c:\\\\Users\\\\Ivar\\\\Downloads\\\\text summarzre\\\\text-summarizer'"
      ]
     },
     "execution_count": 4,
     "metadata": {},
     "output_type": "execute_result"
    }
   ],
   "source": [
    "%pwd"
   ]
  },
  {
   "cell_type": "code",
   "execution_count": 5,
   "metadata": {},
   "outputs": [],
   "source": [
    "from dataclasses import dataclass\n",
    "from pathlib import Path\n",
    "\n",
    "@dataclass(frozen=True)\n",
    "class ModelTrainConfig:\n",
    "    root_dir: Path\n",
    "    data_path: Path\n",
    "    model_ckpt: Path\n",
    "    num_train_epochs:int\n",
    "    warmup_steps  :int\n",
    "    per_device_train_batch_size  :int\n",
    "    weight_decay:int\n",
    "    logging_steps:int\n",
    "    evaluation_strategy:int\n",
    "    eval_steps:int\n",
    "    save_steps:int\n",
    "    gradient_accumulation_steps:int\n",
    "    \n",
    "    "
   ]
  },
  {
   "cell_type": "code",
   "execution_count": 6,
   "metadata": {},
   "outputs": [],
   "source": [
    "from textsummarzer.constants import CONFIG_FILE_PATH,CONFIG_FILE_PATH,PARAMS_FILE_PATH\n",
    "from textsummarzer.utils.common import read_yaml,create_directory"
   ]
  },
  {
   "cell_type": "code",
   "execution_count": 7,
   "metadata": {},
   "outputs": [],
   "source": [
    "class ConfigurationManager:\n",
    "    def __init__(\n",
    "        self,\n",
    "        config_filepath=CONFIG_FILE_PATH,\n",
    "        params_filepath=PARAMS_FILE_PATH):\n",
    "        self.config=read_yaml(config_filepath)\n",
    "        self.params=read_yaml(params_filepath)\n",
    "        \n",
    "        create_directory([self.config.artifacts_root]) \n",
    "    def get_data_trainer_config(self)->ModelTrainConfig:\n",
    "      \n",
    "      config=self.config.model_trainer\n",
    "      params=self.params.TrainingArguments\n",
    "      create_directory([config.root_dir])\n",
    "      \n",
    "      data_trainer_config=ModelTrainConfig (\n",
    "        root_dir=config.root_dir ,\n",
    "        data_path=config.data_path,\n",
    "        model_ckpt=config.model_ckpt,\n",
    "        num_train_epochs=params.num_train_epochs,\n",
    "        warmup_steps  = params. warmup_steps ,\n",
    "        per_device_train_batch_size  = params.per_device_train_batch_size  ,\n",
    "        weight_decay=params.weight_decay,\n",
    "        logging_steps=params.logging_steps,\n",
    "        evaluation_strategy= params.evaluation_strategy,\n",
    "        eval_steps= params.eval_steps,\n",
    "        save_steps=params.save_steps,\n",
    "        gradient_accumulation_steps= params.gradient_accumulation_steps)\n",
    "      \n",
    "      return data_trainer_config"
   ]
  },
  {
   "cell_type": "code",
   "execution_count": 8,
   "metadata": {},
   "outputs": [
    {
     "name": "stderr",
     "output_type": "stream",
     "text": [
      "c:\\Users\\Ivar\\Downloads\\text summarzre\\text-summarizer\\texts\\Lib\\site-packages\\tqdm\\auto.py:21: TqdmWarning: IProgress not found. Please update jupyter and ipywidgets. See https://ipywidgets.readthedocs.io/en/stable/user_install.html\n",
      "  from .autonotebook import tqdm as notebook_tqdm\n"
     ]
    },
    {
     "name": "stdout",
     "output_type": "stream",
     "text": [
      "[2024-10-20 20:51:11,585:INFO:config:PyTorch version 2.4.1 available.]\n"
     ]
    }
   ],
   "source": [
    "from transformers import TrainingArguments, Trainer\n",
    "from transformers import DataCollatorForSeq2Seq\n",
    "from transformers import AutoTokenizer, AutoModelForSeq2SeqLM\n",
    "from datasets import load_dataset,load_from_disk\n",
    "import torch \n",
    "\n",
    "class ModelTrainer:\n",
    "    def __init__(self,config:ModelTrainConfig):\n",
    "        self.config=config\n",
    "    def train(self):\n",
    "        model_ckpt = \"google/pegasus-cnn_dailymail\"\n",
    "        device = \"cuda\" if torch.cuda.is_available() else \"cpu\"\n",
    "        tokenizer = AutoTokenizer.from_pretrained(model_ckpt)\n",
    "        model_pegasus = AutoModelForSeq2SeqLM.from_pretrained(model_ckpt).to(device)\n",
    "        seq2seq_data_collator = DataCollatorForSeq2Seq(tokenizer, model=model_pegasus)\n",
    "            \n",
    "            #loading data \n",
    "        dataset_samsum_pt = load_from_disk(self.config.data_path)\n",
    "        \n",
    "        trainer_args = TrainingArguments(\n",
    "            output_dir='pegasus-samsum', num_train_epochs=1, warmup_steps=500,\n",
    "            per_device_train_batch_size=1, per_device_eval_batch_size=1,\n",
    "            weight_decay=0.01, logging_steps=10,\n",
    "            evaluation_strategy='steps', eval_steps=500, save_steps=1e6,\n",
    "            gradient_accumulation_steps=16)\n",
    "        trainer = Trainer(model=model_pegasus, args=trainer_args,\n",
    "                        tokenizer=tokenizer, data_collator=seq2seq_data_collator,\n",
    "                        train_dataset=dataset_samsum_pt[\"test\"],\n",
    "                        eval_dataset=dataset_samsum_pt[\"validation\"])\n",
    "        trainer.train()\n",
    "        model_pegasus.save_pretrained(os.path.join(self.config.root_dir,'pegasus-samsum'))\n",
    "        tokenizer.save_pretrained(os.path.join(self.config.root_dir,'tokenizer-samsum'))\n",
    "\n"
   ]
  },
  {
   "cell_type": "code",
   "execution_count": 9,
   "metadata": {},
   "outputs": [
    {
     "name": "stdout",
     "output_type": "stream",
     "text": [
      "[2024-10-20 20:51:14,113:INFO:common:yaml file: C:\\Users\\Ivar\\Downloads\\text summarzre\\text-summarizer\\config\\config.yaml loaded successfully]\n",
      "[2024-10-20 20:51:14,118:INFO:common:yaml file: C:\\Users\\Ivar\\Downloads\\text summarzre\\text-summarizer\\params.yaml loaded successfully]\n",
      "[2024-10-20 20:51:14,120:INFO:common:directory: artifacts created]\n",
      "[2024-10-20 20:51:14,122:INFO:common:directory: artifacts/data_trainer created]\n"
     ]
    },
    {
     "name": "stderr",
     "output_type": "stream",
     "text": [
      "Some weights of PegasusForConditionalGeneration were not initialized from the model checkpoint at google/pegasus-cnn_dailymail and are newly initialized: ['model.decoder.embed_positions.weight', 'model.encoder.embed_positions.weight']\n",
      "You should probably TRAIN this model on a down-stream task to be able to use it for predictions and inference.\n",
      "c:\\Users\\Ivar\\Downloads\\text summarzre\\text-summarizer\\texts\\Lib\\site-packages\\transformers\\training_args.py:1545: FutureWarning: `evaluation_strategy` is deprecated and will be removed in version 4.46 of 🤗 Transformers. Use `eval_strategy` instead\n",
      "  warnings.warn(\n",
      "  2%|▏         | 1/51 [03:40<3:01:44, 218.08s/it]"
     ]
    }
   ],
   "source": [
    "#create the pipline\n",
    "try:\n",
    "    config=ConfigurationManager()\n",
    "    DataTrainConfig=config.get_data_trainer_config()\n",
    "    DataTrainConfig=ModelTrainer(config=DataTrainConfig)\n",
    "    DataTrainConfig.train()\n",
    "\n",
    "except Exception as e:\n",
    "    raise e"
   ]
  },
  {
   "cell_type": "code",
   "execution_count": null,
   "metadata": {},
   "outputs": [],
   "source": []
  }
 ],
 "metadata": {
  "kernelspec": {
   "display_name": "texts",
   "language": "python",
   "name": "python3"
  },
  "language_info": {
   "codemirror_mode": {
    "name": "ipython",
    "version": 3
   },
   "file_extension": ".py",
   "mimetype": "text/x-python",
   "name": "python",
   "nbconvert_exporter": "python",
   "pygments_lexer": "ipython3",
   "version": "3.11.4"
  },
  "orig_nbformat": 4
 },
 "nbformat": 4,
 "nbformat_minor": 2
}
