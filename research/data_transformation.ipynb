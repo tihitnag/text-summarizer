{
 "cells": [
  {
   "cell_type": "code",
   "execution_count": 1,
   "metadata": {},
   "outputs": [],
   "source": [
    "import os"
   ]
  },
  {
   "cell_type": "code",
   "execution_count": 2,
   "metadata": {},
   "outputs": [
    {
     "data": {
      "text/plain": [
       "'c:\\\\Users\\\\Ivar\\\\Downloads\\\\text summarzre\\\\text-summarizer\\\\research'"
      ]
     },
     "execution_count": 2,
     "metadata": {},
     "output_type": "execute_result"
    }
   ],
   "source": [
    "%pwd"
   ]
  },
  {
   "cell_type": "code",
   "execution_count": 4,
   "metadata": {},
   "outputs": [],
   "source": [
    "os.chdir('../')"
   ]
  },
  {
   "cell_type": "code",
   "execution_count": 5,
   "metadata": {},
   "outputs": [
    {
     "data": {
      "text/plain": [
       "'c:\\\\Users\\\\Ivar\\\\Downloads\\\\text summarzre\\\\text-summarizer'"
      ]
     },
     "execution_count": 5,
     "metadata": {},
     "output_type": "execute_result"
    }
   ],
   "source": [
    "%pwd"
   ]
  },
  {
   "cell_type": "code",
   "execution_count": 12,
   "metadata": {},
   "outputs": [],
   "source": [
    "#entity\n",
    "from dataclasses import dataclass\n",
    "from pathlib import Path \n",
    "\n",
    "@dataclass(frozen=True)\n",
    "class DataTransforamtionConfig:\n",
    "     root_dir:Path\n",
    "     data_path: Path\n",
    "     tokenizer_name: Path\n"
   ]
  },
  {
   "cell_type": "code",
   "execution_count": 13,
   "metadata": {},
   "outputs": [],
   "source": [
    "from textsummarzer.constants import CONFIG_FILE_PATH,CONFIG_FILE_PATH\n",
    "from textsummarzer.utils.common import read_yaml,create_directory"
   ]
  },
  {
   "cell_type": "code",
   "execution_count": 14,
   "metadata": {},
   "outputs": [],
   "source": [
    "class ConfigurationManager:\n",
    "    def __init__(\n",
    "        self,\n",
    "        config_filepath=CONFIG_FILE_PATH,\n",
    "        params_filepath=CONFIG_FILE_PATH):\n",
    "        self.config=read_yaml(config_filepath)\n",
    "        self.params=read_yaml(params_filepath)\n",
    "        \n",
    "        create_directory([self.config.artifacts_root]) \n",
    "    def get_data_transformation_config(self)->DataTransforamtionConfig:\n",
    "      \n",
    "      config=self.config.data_transformation\n",
    "      create_directory([config.root_dir])\n",
    "      \n",
    "      data_transformation_config=DataTransforamtionConfig(\n",
    "        root_dir=config.root_dir ,\n",
    "         data_path= config.data_path,\n",
    "         tokenizer_name=config.tokenizer_name,\n",
    "      )\n",
    "      \n",
    "      return data_transformation_config"
   ]
  },
  {
   "cell_type": "code",
   "execution_count": 16,
   "metadata": {},
   "outputs": [],
   "source": [
    "import os \n",
    "from textsummarzer.logging import logger\n",
    "from transformers import AutoTokenizer\n",
    "from datasets import load_dataset,load_from_disk"
   ]
  },
  {
   "cell_type": "code",
   "execution_count": 29,
   "metadata": {},
   "outputs": [],
   "source": [
    "class DataTransforamtion:\n",
    "    def __init__(self,config:DataTransforamtionConfig):\n",
    "        self.config=config\n",
    "        self.tokenizer=AutoTokenizer.from_pretrained(config.tokenizer_name)\n",
    "    def convert_examples_to_features(self,example_batch):\n",
    "        input_encodings =self.tokenizer(example_batch['dialogue'] , max_length = 1024, truncation = True )\n",
    "\n",
    "        with self.tokenizer.as_target_tokenizer():\n",
    "            target_encodings = self.tokenizer(example_batch['summary'], max_length = 128, truncation = True )\n",
    "\n",
    "        return {\n",
    "            'input_ids' : input_encodings['input_ids'],\n",
    "            'attention_mask': input_encodings['attention_mask'],\n",
    "            'labels': target_encodings['input_ids']\n",
    "        }\n",
    "    def convert(self):\n",
    "        data_sasum=load_from_disk(self.config.data_path)\n",
    "        dataset_samsum_pt=data_sasum.map(self.convert_examples_to_features, batched=True)\n",
    "        dataset_samsum_pt.save_to_disk(os.path.join(self.config.root_dir,\"samsum_dataset\"))"
   ]
  },
  {
   "cell_type": "code",
   "execution_count": 30,
   "metadata": {},
   "outputs": [
    {
     "name": "stdout",
     "output_type": "stream",
     "text": [
      "[2024-10-18 21:03:46,625:INFO:common:yaml file: C:\\Users\\Ivar\\Downloads\\text summarzre\\text-summarizer\\config\\config.yaml loaded successfully]\n",
      "[2024-10-18 21:03:46,630:INFO:common:yaml file: C:\\Users\\Ivar\\Downloads\\text summarzre\\text-summarizer\\config\\config.yaml loaded successfully]\n",
      "[2024-10-18 21:03:46,632:INFO:common:directory: artifacts created]\n",
      "[2024-10-18 21:03:46,633:INFO:common:directory: artifacts/data_transformation created]\n"
     ]
    },
    {
     "name": "stderr",
     "output_type": "stream",
     "text": [
      "Map: 100%|██████████| 14732/14732 [00:06<00:00, 2421.82 examples/s]\n",
      "Map: 100%|██████████| 819/819 [00:00<00:00, 1238.07 examples/s]\n",
      "Map: 100%|██████████| 818/818 [00:00<00:00, 1054.66 examples/s]\n",
      "Saving the dataset (1/1 shards): 100%|██████████| 14732/14732 [00:00<00:00, 87470.52 examples/s]\n",
      "Saving the dataset (1/1 shards): 100%|██████████| 819/819 [00:00<00:00, 29325.54 examples/s]\n",
      "Saving the dataset (1/1 shards): 100%|██████████| 818/818 [00:00<00:00, 13229.76 examples/s]\n"
     ]
    }
   ],
   "source": [
    "#create the pipline\n",
    "try:\n",
    "    config=ConfigurationManager()\n",
    "    DataTransformationConfig=config.get_data_transformation_config()\n",
    "    data_validation=DataTransforamtion(config=DataTransformationConfig)\n",
    "    data_validation.convert()\n",
    "\n",
    "except Exception as e:\n",
    "    raise e"
   ]
  }
 ],
 "metadata": {
  "kernelspec": {
   "display_name": "texts",
   "language": "python",
   "name": "python3"
  },
  "language_info": {
   "codemirror_mode": {
    "name": "ipython",
    "version": 3
   },
   "file_extension": ".py",
   "mimetype": "text/x-python",
   "name": "python",
   "nbconvert_exporter": "python",
   "pygments_lexer": "ipython3",
   "version": "3.11.4"
  },
  "orig_nbformat": 4
 },
 "nbformat": 4,
 "nbformat_minor": 2
}
