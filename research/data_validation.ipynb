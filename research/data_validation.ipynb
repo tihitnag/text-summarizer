{
 "cells": [
  {
   "cell_type": "code",
   "execution_count": 1,
   "metadata": {},
   "outputs": [],
   "source": [
    "import os"
   ]
  },
  {
   "cell_type": "code",
   "execution_count": 2,
   "metadata": {},
   "outputs": [
    {
     "data": {
      "text/plain": [
       "'c:\\\\Users\\\\Ivar\\\\Downloads\\\\text summarzre\\\\text-summarizer\\\\research'"
      ]
     },
     "execution_count": 2,
     "metadata": {},
     "output_type": "execute_result"
    }
   ],
   "source": [
    "%pwd"
   ]
  },
  {
   "cell_type": "code",
   "execution_count": 3,
   "metadata": {},
   "outputs": [],
   "source": [
    "os.chdir ('../')"
   ]
  },
  {
   "cell_type": "code",
   "execution_count": 4,
   "metadata": {},
   "outputs": [
    {
     "data": {
      "text/plain": [
       "'c:\\\\Users\\\\Ivar\\\\Downloads\\\\text summarzre\\\\text-summarizer'"
      ]
     },
     "execution_count": 4,
     "metadata": {},
     "output_type": "execute_result"
    }
   ],
   "source": [
    "%pwd"
   ]
  },
  {
   "cell_type": "code",
   "execution_count": 5,
   "metadata": {},
   "outputs": [],
   "source": [
    "#entity return type it will retrun this variable \n",
    "#custome retun type\n",
    "from dataclasses import dataclass\n",
    "\n",
    "from pathlib import Path \n",
    "\n",
    "@dataclass(frozen=True)\n",
    "class DataValidationConfig:\n",
    "    root_dir: Path \n",
    "    status_file: str\n",
    "    required_file:list \n",
    "    "
   ]
  },
  {
   "cell_type": "code",
   "execution_count": 6,
   "metadata": {},
   "outputs": [],
   "source": [
    "from textsummarzer.constants import CONFIG_FILE_PATH,CONFIG_FILE_PATH\n",
    "from textsummarzer.utils.common import read_yaml,create_directory"
   ]
  },
  {
   "cell_type": "code",
   "execution_count": 7,
   "metadata": {},
   "outputs": [],
   "source": [
    "class ConfigurationManager:\n",
    "    def __init__(\n",
    "        self,\n",
    "        config_filepath=CONFIG_FILE_PATH,\n",
    "        params_filepath=CONFIG_FILE_PATH):\n",
    "        self.config=read_yaml(config_filepath)\n",
    "        self.params=read_yaml(params_filepath)\n",
    "        \n",
    "        create_directory([self.config.artifacts_root]) \n",
    "    def get_data_validation_config(self)->DataValidationConfig:\n",
    "      \n",
    "      config=self.config.data_validation\n",
    "      create_directory([config.root_dir])\n",
    "      \n",
    "      data_validation_config=DataValidationConfig(\n",
    "      root_dir=config.root_dir ,\n",
    "      status_file=config.status_file,\n",
    "      required_file=config.required_file,  )\n",
    "      \n",
    "      return data_validation_config"
   ]
  },
  {
   "cell_type": "code",
   "execution_count": 8,
   "metadata": {},
   "outputs": [],
   "source": [
    "import os\n",
    "import urllib.request as request\n",
    "from textsummarzer.logging import logger\n",
    "\n",
    "class DataValidation:\n",
    "    def __init__(self,config:DataValidationConfig):\n",
    "        self.config=config\n",
    "    def validation_all_files(self)->bool:\n",
    "        #we can check the data typea and column type\n",
    "        # check and write the validation status to the status file\n",
    "          #checking the validation staus file existence\n",
    "        try:\n",
    "          \n",
    "            validation_status=None\n",
    "            all_files=os.listdir(os.path.join('artifacts','data_ingestion','samsum_dataset'))\n",
    "            for file in all_files:\n",
    "                if file not in self.config.required_file:\n",
    "                    validation_status=False\n",
    "                    with open(self.config.status_file, 'w') as f:\n",
    "                        f.write(f\"validaiton status: {validation_status}\")\n",
    "                else:\n",
    "                    validation_status=True\n",
    "                    with open(self.config.status_file, 'w') as f:\n",
    "                        f.write(f\"validaiton status: {validation_status}\")\n",
    "                        \n",
    "            return  validation_status\n",
    "        except Exception as e:\n",
    "            raise e"
   ]
  },
  {
   "cell_type": "code",
   "execution_count": null,
   "metadata": {},
   "outputs": [],
   "source": []
  },
  {
   "cell_type": "code",
   "execution_count": 9,
   "metadata": {},
   "outputs": [
    {
     "name": "stdout",
     "output_type": "stream",
     "text": [
      "[2024-10-18 13:28:10,667:INFO:common:yaml file: C:\\Users\\Ivar\\Downloads\\text summarzre\\text-summarizer\\config\\config.yaml loaded successfully]\n",
      "[2024-10-18 13:28:10,674:INFO:common:yaml file: C:\\Users\\Ivar\\Downloads\\text summarzre\\text-summarizer\\config\\config.yaml loaded successfully]\n",
      "[2024-10-18 13:28:10,679:INFO:common:directory: artifacts created]\n",
      "[2024-10-18 13:28:10,689:INFO:common:directory: artifacts/data_validation created]\n"
     ]
    }
   ],
   "source": [
    "#create the pipline\n",
    "try:\n",
    "    config=ConfigurationManager()\n",
    "    DataValidationConfig=config.get_data_validation_config()\n",
    "    data_validation=DataValidation(config=DataValidationConfig)\n",
    "    data_validation.validation_all_files()\n",
    "\n",
    "except Exception as e:\n",
    "    raise e"
   ]
  },
  {
   "cell_type": "code",
   "execution_count": null,
   "metadata": {},
   "outputs": [],
   "source": []
  },
  {
   "cell_type": "code",
   "execution_count": null,
   "metadata": {},
   "outputs": [],
   "source": []
  }
 ],
 "metadata": {
  "kernelspec": {
   "display_name": "texts",
   "language": "python",
   "name": "python3"
  },
  "language_info": {
   "codemirror_mode": {
    "name": "ipython",
    "version": 3
   },
   "file_extension": ".py",
   "mimetype": "text/x-python",
   "name": "python",
   "nbconvert_exporter": "python",
   "pygments_lexer": "ipython3",
   "version": "3.11.4"
  },
  "orig_nbformat": 4
 },
 "nbformat": 4,
 "nbformat_minor": 2
}
